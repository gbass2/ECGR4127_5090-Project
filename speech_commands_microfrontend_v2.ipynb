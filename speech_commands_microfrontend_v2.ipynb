{
 "cells": [
  {
   "cell_type": "markdown",
   "id": "adolescent-davis",
   "metadata": {},
   "source": [
    "## Basic Steps\n",
    "\n",
    "1. Run a baseline training script to build a speech commands model.\n",
    "2. Add in your custom word to the training and test/validation sets.\n",
    "   - Modify labels, shape of your output tensor in the model.\n",
    "   - Make sure that feature extractor for the model aligns with the feature extractor \n",
    "     used in the arduino code.\n",
    "3. Re-train model. => TF Model using floating-point numbers, that recognizes Google word and custom word.\n",
    "4. Quantize the model and convert to TFlite. => keyword_model.tflite file\n",
    "5. Convert tflite to .c file, using xxd => model_data.cc\n",
    "6. Replace contents of existing micro_features_model.cpp with output of xxd.\n",
    "\n",
    "All of the above steps are done in this notebook for the commands 'left', 'right'.\n",
    "\n",
    "7. In micro_speech.ino, modify micro_op_resolver (around line 80) to add any necessary operations (DIFF_FROM_LECTURE)\n",
    "8. In micro_features_model_settings.h, modify kSilenceIndex and kUnknownIndex, depending on \n",
    "where you have them in commands.  \n",
    "  - Commands = ['left', 'right', '_silence', '_unknown'] => kSilenceIndex=2, kUnknownIndex=3\n",
    "9. In micro_features_model_settings.cpp, modify kCategoryLabels to correspond to commands in this script.\n",
    "10. In micro_features_micro_model_settings.h, set kFeatureSliceDurationMs, kFeatureSliceStrideMs to match what is passed to microfrontend as window_size, window_step, respectively.\n",
    "11. Rebuild Arduino program, run it, recognize the two target words.\n",
    "12. Experiment with model architecture, training parameters/methods, augmentation, more data-gathering, etc.\n",
    "\n",
    "*Note*:  As of 5/3/21, this model uses 22% of flash and 49.5% of RAM, so there is substantial space to improve the model, but the latency is about 208ms, which is probably too slow."
   ]
  },
  {
   "cell_type": "code",
   "execution_count": 1,
   "id": "undefined-familiar",
   "metadata": {},
   "outputs": [
    {
     "name": "stdout",
     "output_type": "stream",
     "text": [
      "2.8.0\n"
     ]
    }
   ],
   "source": [
    "# TensorFlow and tf.keras\n",
    "import tensorflow as tf\n",
    "from tensorflow.keras import Input, layers\n",
    "from tensorflow.keras import models\n",
    "from tensorflow.keras.layers.experimental import preprocessing\n",
    "from tensorflow.lite.experimental.microfrontend.python.ops import audio_microfrontend_op as frontend_op\n",
    "print(tf.__version__)\n",
    "from tensorflow.python.client import device_lib\n",
    "tf.config.set_visible_devices([], 'GPU') # Turn off gpu becuase it does not work with the adam optimizer\n",
    "# tf.debugging.set_log_device_placement(True)\n",
    "\n",
    "# Helper libraries\n",
    "import numpy as np\n",
    "import matplotlib.pyplot as plt\n",
    "import seaborn as sns\n",
    "\n",
    "from tqdm.notebook import tqdm\n",
    "# from tqdm import tqdm # replace with this if moving out of notebook\n",
    "\n",
    "import os\n",
    "import pathlib\n",
    "import random\n",
    "\n",
    "from datetime import datetime as dt\n",
    "\n",
    "from IPython import display"
   ]
  },
  {
   "cell_type": "code",
   "execution_count": 2,
   "id": "bearing-lobby",
   "metadata": {},
   "outputs": [],
   "source": [
    "# Set seed for experiment reproducibility\n",
    "seed = 42\n",
    "tf.random.set_seed(seed)\n",
    "np.random.seed(seed)"
   ]
  },
  {
   "cell_type": "code",
   "execution_count": 3,
   "id": "incredible-numbers",
   "metadata": {},
   "outputs": [
    {
     "name": "stdout",
     "output_type": "stream",
     "text": [
      "16000\n"
     ]
    }
   ],
   "source": [
    "i16min = -2**15\n",
    "i16max = 2**15-1\n",
    "fsamp = 16000\n",
    "wave_length_ms = 1000\n",
    "wave_length_samps = int(wave_length_ms*fsamp/1000)\n",
    "print(wave_length_samps)\n",
    "window_size_ms=60\n",
    "window_step_ms=40\n",
    "num_filters = 32\n",
    "use_microfrontend = True\n",
    "dataset = 'mini-speech'\n",
    "# dataset = 'full-speech-ds' # use the full speech commands as a pre-built TF dataset \n",
    "# dataset = 'full-speech-files' # use the full speech commands stored as files \n",
    "\n",
    "silence_str = \"_silence\"  \n",
    "unknown_str = \"_unknown\"\n",
    "EPOCHS = 32"
   ]
  },
  {
   "cell_type": "markdown",
   "id": "outstanding-movement",
   "metadata": {},
   "source": [
    "Apply the frontend to an example signal."
   ]
  },
  {
   "cell_type": "code",
   "execution_count": 4,
   "id": "rising-oracle",
   "metadata": {},
   "outputs": [],
   "source": [
    "commands = ['yes', 'affirmative'] \n",
    "if dataset == 'mini-speech':\n",
    "  data_dir = pathlib.Path(os.path.join(os.getenv(\"HOME\"), 'MachineLearningIoT/project1/mini_speech_commands'))\n",
    "  if not data_dir.exists():\n",
    "    tf.keras.utils.get_file('mini_speech_commands.zip',\n",
    "          origin=\"http://storage.googleapis.com/download.tensorflow.org/data/mini_speech_commands.zip\",\n",
    "          extract=True, cache_dir='.', cache_subdir='data')\n",
    "  # commands = np.array(tf.io.gfile.listdir(str(data_dir))) # if you want to use all the command words\n",
    "  # commands = commands[commands != 'README.md']\n",
    "elif dataset == 'full-speech-files':\n",
    "  # data_dir = '/dfs/org/Holleman-Coursework/data/speech_dataset'\n",
    "  data_dir = pathlib.Path(os.path.join(os.getenv(\"HOME\"), 'MachineLearningIoT/project1/speech'))\n",
    "\n",
    "elif dataset == 'full-speech-ds':\n",
    "    raise RuntimeError(\"full-speech-ds is not really supported yet\")"
   ]
  },
  {
   "cell_type": "code",
   "execution_count": 5,
   "id": "2e571f98-2d10-4809-ae2e-abd8d202181a",
   "metadata": {},
   "outputs": [
    {
     "data": {
      "text/plain": [
       "PosixPath('/Users/graysonbass/MachineLearningIoT/project1/mini_speech_commands')"
      ]
     },
     "execution_count": 5,
     "metadata": {},
     "output_type": "execute_result"
    }
   ],
   "source": [
    "data_dir"
   ]
  },
  {
   "cell_type": "code",
   "execution_count": 6,
   "id": "precious-graph",
   "metadata": {},
   "outputs": [
    {
     "name": "stdout",
     "output_type": "stream",
     "text": [
      "label_list: ['_silence', '_unknown', 'yes', 'affirmative']\n"
     ]
    }
   ],
   "source": [
    "label_list = commands.copy()\n",
    "label_list.insert(0, silence_str)\n",
    "label_list.insert(1, unknown_str)\n",
    "print('label_list:', label_list)"
   ]
  },
  {
   "cell_type": "code",
   "execution_count": 7,
   "id": "e08637a7-35d4-493c-b3c9-31ea358de82d",
   "metadata": {},
   "outputs": [
    {
     "name": "stdout",
     "output_type": "stream",
     "text": [
      "\u001b[30m\u001b[43maffirmative\u001b[m\u001b[m \u001b[30m\u001b[43mgo\u001b[m\u001b[m          \u001b[30m\u001b[43mno\u001b[m\u001b[m          \u001b[30m\u001b[43mstop\u001b[m\u001b[m        \u001b[30m\u001b[43myes\u001b[m\u001b[m\n",
      "\u001b[30m\u001b[43mdown\u001b[m\u001b[m        \u001b[30m\u001b[43mleft\u001b[m\u001b[m        \u001b[30m\u001b[43mright\u001b[m\u001b[m       \u001b[30m\u001b[43mup\u001b[m\u001b[m\n"
     ]
    }
   ],
   "source": [
    "!ls $data_dir/"
   ]
  },
  {
   "cell_type": "code",
   "execution_count": 8,
   "id": "surprising-adjustment",
   "metadata": {
    "scrolled": true
   },
   "outputs": [
    {
     "name": "stdout",
     "output_type": "stream",
     "text": [
      "Number of total examples: 14044\n",
      "Example file tensor: tf.Tensor(b'/Users/graysonbass/MachineLearningIoT/project1/mini_speech_commands/yes/325a0c39_nohash_0.wav', shape=(), dtype=string)\n"
     ]
    },
    {
     "name": "stderr",
     "output_type": "stream",
     "text": [
      "2022-04-23 20:18:57.217862: I tensorflow/core/platform/cpu_feature_guard.cc:151] This TensorFlow binary is optimized with oneAPI Deep Neural Network Library (oneDNN) to use the following CPU instructions in performance-critical operations:  SSE4.2 AVX AVX2 FMA\n",
      "To enable them in other operations, rebuild TensorFlow with the appropriate compiler flags.\n"
     ]
    }
   ],
   "source": [
    "if dataset == 'mini-speech' or dataset == 'full-speech-files':\n",
    "    filenames = tf.io.gfile.glob(str(data_dir) + '/*/*.wav') \n",
    "    # with the next commented-out line, you can choose only files for words in label_list\n",
    "    # filenames = tf.concat([tf.io.gfile.glob(str(data_dir) + '/' + cmd + '/*') for cmd in label_list], 0)\n",
    "    filenames = tf.random.shuffle(filenames)\n",
    "    num_samples = len(filenames)\n",
    "    print('Number of total examples:', num_samples)\n",
    "    # print('Number of examples per label:',\n",
    "    #       len(tf.io.gfile.listdir(str(data_dir/commands[0]))))\n",
    "    print('Example file tensor:', filenames[0])"
   ]
  },
  {
   "cell_type": "code",
   "execution_count": 9,
   "id": "ranging-version",
   "metadata": {},
   "outputs": [
    {
     "data": {
      "text/plain": [
       "<tf.Tensor: shape=(14044,), dtype=string, numpy=\n",
       "array([b'/Users/graysonbass/MachineLearningIoT/project1/mini_speech_commands/yes/325a0c39_nohash_0.wav',\n",
       "       b'/Users/graysonbass/MachineLearningIoT/project1/mini_speech_commands/go/b25b6065_nohash_1.wav',\n",
       "       b'/Users/graysonbass/MachineLearningIoT/project1/mini_speech_commands/right/229978fd_nohash_3.wav',\n",
       "       ...,\n",
       "       b'/Users/graysonbass/MachineLearningIoT/project1/mini_speech_commands/affirmative/126.wav',\n",
       "       b'/Users/graysonbass/MachineLearningIoT/project1/mini_speech_commands/yes/ebdd0f59_nohash_0.wav',\n",
       "       b'/Users/graysonbass/MachineLearningIoT/project1/mini_speech_commands/affirmative/1066.wav'],\n",
       "      dtype=object)>"
      ]
     },
     "execution_count": 9,
     "metadata": {},
     "output_type": "execute_result"
    }
   ],
   "source": [
    "filenames\n",
    "# tf.strings.split(filenames[0], os.path.sep)[-2].numpy().decode('utf8')"
   ]
  },
  {
   "cell_type": "code",
   "execution_count": 10,
   "id": "assured-capture",
   "metadata": {},
   "outputs": [
    {
     "name": "stdout",
     "output_type": "stream",
     "text": [
      "/Users/graysonbass/MachineLearningIoT/project1/mini_speech_commands/yes/325a0c39_nohash_0.wav\n",
      "/Users/graysonbass/MachineLearningIoT/project1/mini_speech_commands/go/b25b6065_nohash_1.wav\n",
      "/Users/graysonbass/MachineLearningIoT/project1/mini_speech_commands/right/229978fd_nohash_3.wav\n",
      "/Users/graysonbass/MachineLearningIoT/project1/mini_speech_commands/yes/0b40aa8e_nohash_0.wav\n",
      "/Users/graysonbass/MachineLearningIoT/project1/mini_speech_commands/left/5b09db89_nohash_3.wav\n",
      "/Users/graysonbass/MachineLearningIoT/project1/mini_speech_commands/affirmative/137 copy.wav\n",
      "/Users/graysonbass/MachineLearningIoT/project1/mini_speech_commands/yes/c7dc7278_nohash_2.wav\n",
      "/Users/graysonbass/MachineLearningIoT/project1/mini_speech_commands/yes/0a196374_nohash_4.wav\n",
      "/Users/graysonbass/MachineLearningIoT/project1/mini_speech_commands/affirmative/167.wav\n",
      "/Users/graysonbass/MachineLearningIoT/project1/mini_speech_commands/stop/a996cf66_nohash_0.wav\n"
     ]
    }
   ],
   "source": [
    "# Not really necessary, but just look at a few of the files to make sure that \n",
    "# they're the correct files, shuffled, etc.\n",
    "for i in range(10):\n",
    "    print(filenames[i].numpy().decode('utf8'))"
   ]
  },
  {
   "cell_type": "code",
   "execution_count": 11,
   "id": "printable-nevada",
   "metadata": {},
   "outputs": [
    {
     "name": "stdout",
     "output_type": "stream",
     "text": [
      "Using mini-speech\n",
      "Training set size 11235\n",
      "Validation set size 1404\n",
      "Test set size 1405\n"
     ]
    }
   ],
   "source": [
    "if dataset == 'mini-speech':\n",
    "  print('Using mini-speech')\n",
    "  num_train_files = int(0.8*num_samples) \n",
    "  num_val_files = int(0.1*num_samples) \n",
    "  num_test_files = num_samples - num_train_files - num_val_files\n",
    "  train_files = filenames[:num_train_files]\n",
    "  val_files = filenames[num_train_files: num_train_files + num_val_files]\n",
    "  test_files = filenames[-num_test_files:]\n",
    "elif dataset == 'full-speech-files':  \n",
    "  # the full speech-commands set lists which files are to be used\n",
    "  # as test and validation data; train with everything else\n",
    "  fname_val_files = os.path.join(data_dir, 'validation_list.txt')    \n",
    "  with open(fname_val_files) as fpi_val:\n",
    "    val_files = fpi_val.read().splitlines()\n",
    "  # validation_list.txt only lists partial paths\n",
    "  val_files = [os.path.join(data_dir, fn) for fn in val_files]\n",
    "  fname_test_files = os.path.join(data_dir, 'testing_list.txt')\n",
    "\n",
    "  with open(fname_test_files) as fpi_tst:\n",
    "    test_files = fpi_tst.read().splitlines()\n",
    "  # testing_list.txt only lists partial paths\n",
    "  test_files = [os.path.join(data_dir, fn).rstrip() for fn in test_files]    \n",
    "\n",
    "  # convert the TF tensor filenames into an array of strings so we can use basic python constructs\n",
    "  train_files = [f.decode('utf8') for f in filenames.numpy()]\n",
    "  # don't train with the _background_noise_ files; exclude when directory name starts with '_'\n",
    "  train_files = [f for f in train_files if f.split('/')[-2][0] != '_']\n",
    "  # validation and test files are listed explicitly in *_list.txt; train with everything else\n",
    "  train_files = list(set(train_files) - set(test_files) - set(val_files))\n",
    "  # now convert back into a TF tensor so we can use the tf.dataset pipeline\n",
    "  train_files = tf.constant(train_files)    \n",
    "  print(\"full-speech-files is in progress.  Good luck!\")\n",
    "elif dataset == 'full-speech-ds':  \n",
    "    print(\"Using full-speech-ds. This is in progress.  Good luck!\")\n",
    "else:\n",
    "  raise ValueError(\"dataset must be either full-speech-files, full-speech-ds or mini-speech\")\n",
    "print('Training set size', len(train_files))\n",
    "print('Validation set size', len(val_files))\n",
    "print('Test set size', len(test_files))"
   ]
  },
  {
   "cell_type": "code",
   "execution_count": 12,
   "id": "connected-polish",
   "metadata": {},
   "outputs": [],
   "source": [
    "def decode_audio(audio_binary):\n",
    "  audio, _ = tf.audio.decode_wav(audio_binary)\n",
    "  return tf.squeeze(audio, axis=-1)"
   ]
  },
  {
   "cell_type": "code",
   "execution_count": 13,
   "id": "third-leave",
   "metadata": {},
   "outputs": [],
   "source": [
    "# @tf.function\n",
    "def get_label(file_path):\n",
    "  parts = tf.strings.split(file_path, os.path.sep)\n",
    "  in_set = tf.reduce_any(parts[-2] == label_list)\n",
    "  label = tf.cond(in_set, lambda: parts[-2], lambda: tf.constant(unknown_str))\n",
    "  # print(f\"parts[-2] = {parts[-2]}, in_set = {in_set}, label = {label}\")\n",
    "  # Note: You'll use indexing here instead of tuple unpacking to enable this \n",
    "  # to work in a TensorFlow graph.\n",
    "  return  label # parts[-2]"
   ]
  },
  {
   "cell_type": "code",
   "execution_count": 14,
   "id": "false-cambodia",
   "metadata": {},
   "outputs": [],
   "source": [
    "def get_waveform_and_label(file_path):\n",
    "  label = get_label(file_path)\n",
    "  audio_binary = tf.io.read_file(file_path)\n",
    "  waveform = decode_audio(audio_binary)\n",
    "  return waveform, label"
   ]
  },
  {
   "cell_type": "code",
   "execution_count": 15,
   "id": "injured-december",
   "metadata": {},
   "outputs": [],
   "source": [
    "def get_spectrogram(waveform):\n",
    "  # Concatenate audio with padding so that all audio clips will be of the \n",
    "  # same length (16000 samples)\n",
    "  zero_padding = tf.zeros([wave_length_samps] - tf.shape(waveform), dtype=tf.int16)\n",
    "  waveform = tf.cast(0.5*waveform*(i16max-i16min), tf.int16)  # scale float [-1,+1]=>INT16\n",
    "  equal_length = tf.concat([waveform, zero_padding], 0)\n",
    "  ## Make sure these labels correspond to those used in micro_features_micro_features_generator.cpp\n",
    "  spectrogram = frontend_op.audio_microfrontend(equal_length, sample_rate=fsamp, num_channels=num_filters,\n",
    "                                    window_size=window_size_ms, window_step=window_step_ms)\n",
    "  return spectrogram\n"
   ]
  },
  {
   "cell_type": "markdown",
   "id": "competent-newark",
   "metadata": {},
   "source": [
    "Function to convert each waveform in a set into a spectrogram, then convert those\n",
    "back into a dataset using `from_tensor_slices`.  (We should be able to use \n",
    "`wav_ds.map(get_spectrogram_and_label_id)`, but there is a problem with that process).\n",
    "   "
   ]
  },
  {
   "cell_type": "code",
   "execution_count": 16,
   "id": "normal-productivity",
   "metadata": {},
   "outputs": [],
   "source": [
    "def create_silence_dataset(num_waves, samples_per_wave, rms_noise_range=[0.01,0.2], silent_label=silence_str):\n",
    "    # create num_waves waveforms of white gaussian noise, with rms level drawn from rms_noise_range\n",
    "    # to act as the \"silence\" dataset\n",
    "    rng = np.random.default_rng()\n",
    "    rms_noise_levels = rng.uniform(low=rms_noise_range[0], high=rms_noise_range[1], size=num_waves)\n",
    "    rand_waves = np.zeros((num_waves, samples_per_wave), dtype=np.float32) # pre-allocate memory\n",
    "    for i in range(num_waves):\n",
    "        rand_waves[i,:] = rms_noise_levels[i]*rng.standard_normal(samples_per_wave)\n",
    "    labels = [silent_label]*num_waves\n",
    "    return tf.data.Dataset.from_tensor_slices((rand_waves, labels))  "
   ]
  },
  {
   "cell_type": "code",
   "execution_count": 17,
   "id": "awful-national",
   "metadata": {},
   "outputs": [],
   "source": [
    "def wavds2specds(waveform_ds, verbose=True):\n",
    "  wav, label = next(waveform_ds.as_numpy_iterator())\n",
    "  one_spec = get_spectrogram(wav)\n",
    "  one_spec = tf.expand_dims(one_spec, axis=0)  # add a 'batch' dimension at the front\n",
    "  one_spec = tf.expand_dims(one_spec, axis=-1) # add a singleton 'channel' dimension at the back    \n",
    "\n",
    "  num_waves = 0 # count the waveforms so we can allocate the memory\n",
    "  for wav, label in waveform_ds:\n",
    "    num_waves += 1\n",
    "  print(f\"About to create spectrograms from {num_waves} waves\")\n",
    "  spec_shape = (num_waves,) + one_spec.shape[1:] \n",
    "  spec_grams = np.nan * np.zeros(spec_shape)  # allocate memory\n",
    "  labels = np.nan * np.zeros(num_waves)\n",
    "  idx = 0\n",
    "  for wav, label in waveform_ds:    \n",
    "    if verbose and idx % 250 == 0:\n",
    "      print(f\"\\r {idx} wavs processed\", end='')\n",
    "    spectrogram = get_spectrogram(wav)\n",
    "    # TF conv layer expect inputs structured as 4D (batch_size, height, width, channels)\n",
    "    # the microfrontend returns 2D tensors (freq, time), so we need to \n",
    "    spectrogram = tf.expand_dims(spectrogram, axis=0)  # add a 'batch' dimension at the front\n",
    "    spectrogram = tf.expand_dims(spectrogram, axis=-1) # add a singleton 'channel' dimension at the back\n",
    "    spec_grams[idx, ...] = spectrogram\n",
    "    new_label = label.numpy().decode('utf8')\n",
    "    new_label_id = np.argmax(new_label == np.array(label_list))    \n",
    "    labels[idx] = new_label_id # for numeric labels\n",
    "    # labels.append(new_label) # for string labels\n",
    "    idx += 1\n",
    "  labels = np.array(labels, dtype=int)\n",
    "  output_ds = tf.data.Dataset.from_tensor_slices((spec_grams, labels))  \n",
    "  return output_ds"
   ]
  },
  {
   "cell_type": "code",
   "execution_count": 18,
   "id": "appropriate-circus",
   "metadata": {},
   "outputs": [
    {
     "name": "stdout",
     "output_type": "stream",
     "text": [
      "About to create spectrograms from 11235 waves\n",
      " 11000 wavs processed"
     ]
    }
   ],
   "source": [
    "AUTOTUNE = tf.data.experimental.AUTOTUNE\n",
    "num_train_files = len(train_files)\n",
    "files_ds = tf.data.Dataset.from_tensor_slices(train_files)\n",
    "waveform_ds = files_ds.map(get_waveform_and_label, num_parallel_calls=AUTOTUNE)\n",
    "train_ds = wavds2specds(waveform_ds)"
   ]
  },
  {
   "cell_type": "code",
   "execution_count": 19,
   "id": "objective-consideration",
   "metadata": {
    "scrolled": true
   },
   "outputs": [
    {
     "data": {
      "image/png": "[encoded data removed]",
      "text/plain": [
       "<Figure size 720x864 with 9 Axes>"
      ]
     },
     "metadata": {
      "needs_background": "light"
     },
     "output_type": "display_data"
    }
   ],
   "source": [
    "rows = 3\n",
    "cols = 3\n",
    "n = rows*cols\n",
    "fig, axes = plt.subplots(rows, cols, figsize=(10, 12))\n",
    "for i, (audio, label) in enumerate(waveform_ds.take(n)):\n",
    "  r = i // cols\n",
    "  c = i % cols\n",
    "  ax = axes[r][c]\n",
    "  ax.plot(audio.numpy())\n",
    "  ax.set_yticks(np.arange(-1.2, 1.2, 0.2))\n",
    "  label = label.numpy().decode('utf-8')\n",
    "  ax.set_title(label)\n",
    "\n",
    "plt.show()"
   ]
  },
  {
   "cell_type": "code",
   "execution_count": 20,
   "id": "positive-honolulu",
   "metadata": {},
   "outputs": [
    {
     "name": "stdout",
     "output_type": "stream",
     "text": [
      "Label: yes\n",
      "Waveform shape: (16000,)\n",
      "Spectrogram shape: (24, 32)\n",
      "Audio playback\n"
     ]
    },
    {
     "data": {
      "text/html": [
       "\n",
       "                <audio  controls=\"controls\" >\n",
       "                    <source src=\"data:audio/wav;base64,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\" type=\"audio/wav\" />\n",
       "                    Your browser does not support the audio element.\n",
       "                </audio>\n",
       "              "
      ],
      "text/plain": [
       "<IPython.lib.display.Audio object>"
      ]
     },
     "metadata": {},
     "output_type": "display_data"
    }
   ],
   "source": [
    "for waveform, label in waveform_ds.take(1):\n",
    "  label = label.numpy().decode('utf-8')\n",
    "  spectrogram = get_spectrogram(waveform)\n",
    "\n",
    "print('Label:', label)\n",
    "print('Waveform shape:', waveform.shape)\n",
    "print('Spectrogram shape:', spectrogram.shape)\n",
    "print('Audio playback')\n",
    "display.display(display.Audio(waveform, rate=16000))"
   ]
  },
  {
   "cell_type": "code",
   "execution_count": 21,
   "id": "previous-clear",
   "metadata": {},
   "outputs": [
    {
     "data": {
      "image/png": "[encoded data removed]",
      "text/plain": [
       "<Figure size 864x576 with 2 Axes>"
      ]
     },
     "metadata": {
      "needs_background": "light"
     },
     "output_type": "display_data"
    }
   ],
   "source": [
    "def plot_spectrogram(spectrogram, ax):\n",
    "  # transpose so that the time is\n",
    "  # represented in the x-axis (columns).\n",
    "  freq_bins = spectrogram.shape[1]\n",
    "  time_dur = spectrogram.shape[0]\n",
    "  X = np.arange(time_dur)\n",
    "  Y = range(freq_bins)\n",
    "  ax.pcolormesh(X, Y, spectrogram.T)\n",
    "\n",
    "fig, axes = plt.subplots(2, figsize=(12, 8))\n",
    "timescale = np.arange(waveform.shape[0])\n",
    "axes[0].plot(timescale, waveform.numpy())\n",
    "axes[0].set_title('Waveform')\n",
    "axes[0].set_xlim([0, 16000])\n",
    "plot_spectrogram(spectrogram.numpy(), axes[1])\n",
    "axes[1].set_title('Spectrogram')\n",
    "plt.show()"
   ]
  },
  {
   "cell_type": "code",
   "execution_count": 22,
   "id": "26fa4527-72ed-45fc-8c06-9333274fce77",
   "metadata": {},
   "outputs": [
    {
     "data": {
      "text/plain": [
       "(24, 32)"
      ]
     },
     "execution_count": 22,
     "metadata": {},
     "output_type": "execute_result"
    }
   ],
   "source": [
    "spectrogram.numpy().shape"
   ]
  },
  {
   "cell_type": "code",
   "execution_count": 23,
   "id": "undefined-filter",
   "metadata": {},
   "outputs": [
    {
     "name": "stderr",
     "output_type": "stream",
     "text": [
      "/var/folders/q8/4y2rn7y16gq2rxlt56c5m4s80000gn/T/ipykernel_13537/1859809011.py:10: DeprecationWarning: `np.int` is a deprecated alias for the builtin `int`. To silence this warning, use `int` by itself. Doing this will not modify any behavior and is safe. When replacing `np.int`, you may wish to use e.g. `np.int64` or `np.int32` to specify the precision. If you wish to review your current use, check the release note link for additional information.\n",
      "Deprecated in NumPy 1.20; for more details and guidance: https://numpy.org/devdocs/release/1.20.0-notes.html#deprecations\n",
      "  ax.set_title(label_list[np.int(label_id)])\n"
     ]
    },
    {
     "data": {
      "image/png": "[encoded data removed]",
      "text/plain": [
       "<Figure size 720x720 with 9 Axes>"
      ]
     },
     "metadata": {
      "needs_background": "light"
     },
     "output_type": "display_data"
    }
   ],
   "source": [
    "rows = 3\n",
    "cols = 3\n",
    "n = rows*cols\n",
    "fig, axes = plt.subplots(rows, cols, figsize=(10, 10))\n",
    "for i, (spectrogram, label_id) in enumerate(train_ds.take(n)):\n",
    "  r = i // cols\n",
    "  c = i % cols\n",
    "  ax = axes[r][c]\n",
    "  plot_spectrogram(np.squeeze(spectrogram.numpy()), ax)\n",
    "  ax.set_title(label_list[np.int(label_id)])\n",
    "  ax.axis('off')\n",
    "\n",
    "plt.show()"
   ]
  },
  {
   "cell_type": "code",
   "execution_count": 24,
   "id": "certified-interval",
   "metadata": {},
   "outputs": [],
   "source": [
    "def copy_with_noise(ds_input, rms_level=0.25):\n",
    "  rng = tf.random.Generator.from_seed(1234)\n",
    "  wave_shape = tf.constant((wave_length_samps,))\n",
    "  def add_noise(waveform, label):\n",
    "    noise = rms_level*rng.normal(shape=wave_shape)\n",
    "    zero_padding = tf.zeros([wave_length_samps] - tf.shape(waveform), dtype=tf.float32)\n",
    "    waveform = tf.concat([waveform, zero_padding], 0)    \n",
    "    noisy_wave = waveform + noise\n",
    "    return noisy_wave, label\n",
    "\n",
    "  return ds_input.map(add_noise)"
   ]
  },
  {
   "cell_type": "code",
   "execution_count": 25,
   "id": "distributed-breakfast",
   "metadata": {},
   "outputs": [
    {
     "name": "stdout",
     "output_type": "stream",
     "text": [
      "element 19 has shape (8174,)\n",
      "19\n"
     ]
    }
   ],
   "source": [
    "# waveform_ds = augment_with_noise(waveform_ds)\n",
    "count = 0\n",
    "for w,l in waveform_ds:\n",
    "  if w.shape != (16000,):\n",
    "    print(f\"element {count} has shape {w.shape}\")\n",
    "    break\n",
    "  count += 1\n",
    "print(count)"
   ]
  },
  {
   "cell_type": "code",
   "execution_count": 26,
   "id": "catholic-berlin",
   "metadata": {},
   "outputs": [],
   "source": [
    "def pad_16000(waveform, label):\n",
    "    zero_padding = tf.zeros([wave_length_samps] - tf.shape(waveform), dtype=tf.float32)\n",
    "    waveform = tf.concat([waveform, zero_padding], 0)        \n",
    "    return waveform, label"
   ]
  },
  {
   "cell_type": "code",
   "execution_count": 27,
   "id": "sound-forty",
   "metadata": {},
   "outputs": [],
   "source": [
    "def count_labels(dataset):\n",
    "    counts = {}\n",
    "    for _, lbl in dataset:\n",
    "        if lbl.dtype == tf.string:\n",
    "            label = lbl.numpy().decode('utf-8')\n",
    "        else:\n",
    "            label = lbl.numpy()\n",
    "        if label in counts:\n",
    "            counts[label] += 1\n",
    "        else:\n",
    "            counts[label] = 1\n",
    "    return counts"
   ]
  },
  {
   "cell_type": "code",
   "execution_count": 28,
   "id": "nonprofit-admission",
   "metadata": {},
   "outputs": [],
   "source": [
    "# Collect what we did to generate the training dataset into a \n",
    "# function, so we can repeat with the validation and test sets.\n",
    "def preprocess_dataset(files, num_silent=None, noisy_reps_of_known=None):\n",
    "  # if noisy_reps_of_known is not None, it should be a list of rms noise levels\n",
    "  # For every target word in the data set, 1 copy will be created with each level \n",
    "  # of noise added to it.  So [0.1, 0.2] will add 2x noisy copies of the target words \n",
    "  if num_silent is None:\n",
    "    num_silent = int(0.2*len(files))+1\n",
    "  print(f\"Processing {len(files)} files\")\n",
    "  files_ds = tf.data.Dataset.from_tensor_slices(files)\n",
    "  waveform_ds = files_ds.map(get_waveform_and_label)\n",
    "  if noisy_reps_of_known is not None:\n",
    "    # create a few copies of only the target words to balance the distribution\n",
    "    # create a tmp dataset with only the target words\n",
    "    ds_only_cmds = waveform_ds.filter(lambda w,l: tf.reduce_any(l == commands))\n",
    "    \n",
    "    for noise_level in noisy_reps_of_known:\n",
    "       waveform_ds = waveform_ds.concatenate(copy_with_noise(ds_only_cmds, rms_level=noise_level))\n",
    "  if num_silent > 0:\n",
    "    silent_wave_ds = create_silence_dataset(num_silent, wave_length_samps, \n",
    "                                            rms_noise_range=[0.01,0.2], \n",
    "                                            silent_label=silence_str)\n",
    "    waveform_ds = waveform_ds.concatenate(silent_wave_ds)\n",
    "\n",
    "  print(f\"Added {num_silent} silent wavs and ?? noisy wavs\")\n",
    "\n",
    "\n",
    "  num_waves = 0\n",
    "  output_ds = wavds2specds(waveform_ds)\n",
    "\n",
    "  return output_ds"
   ]
  },
  {
   "cell_type": "code",
   "execution_count": 29,
   "id": "measured-police",
   "metadata": {},
   "outputs": [
    {
     "name": "stdout",
     "output_type": "stream",
     "text": [
      "We have 11235/1404/1405 training/validation/test files\n"
     ]
    }
   ],
   "source": [
    "print(f\"We have {len(train_files)}/{len(val_files)}/{len(test_files)} training/validation/test files\")"
   ]
  },
  {
   "cell_type": "code",
   "execution_count": 30,
   "id": "refined-immunology",
   "metadata": {},
   "outputs": [
    {
     "name": "stdout",
     "output_type": "stream",
     "text": [
      "['_silence', '_unknown', 'yes', 'affirmative']\n",
      "Processing 20 files\n",
      "Added 5 silent wavs and ?? noisy wavs\n",
      "About to create spectrograms from 25 waves\n",
      " 0 wavs processed{2: 7, 1: 10, 3: 3, 0: 5}\n",
      "Processing 20 files\n",
      "Added 5 silent wavs and ?? noisy wavs\n",
      "About to create spectrograms from 45 waves\n",
      " 0 wavs processed{2: 21, 1: 10, 3: 9, 0: 5}\n"
     ]
    }
   ],
   "source": [
    "# print(train_files[:20])\n",
    "print(label_list)\n",
    "train_files[:20]\n",
    "\n",
    "tmp_ds = preprocess_dataset(train_files[:20])\n",
    "print(count_labels(tmp_ds))\n",
    "# with tf.device('/CPU:0'):\n",
    "tmp_ds = preprocess_dataset(train_files[:20], noisy_reps_of_known=[0.05,0.1])\n",
    "print(count_labels(tmp_ds))\n",
    "\n"
   ]
  },
  {
   "cell_type": "code",
   "execution_count": null,
   "id": "48d0ab6d-451c-4e3d-9caa-9b1c8ad3c27d",
   "metadata": {},
   "outputs": [],
   "source": []
  },
  {
   "cell_type": "code",
   "execution_count": 31,
   "id": "conscious-humor",
   "metadata": {},
   "outputs": [
    {
     "name": "stdout",
     "output_type": "stream",
     "text": [
      "Processing 11235 files\n",
      "Added 2248 silent wavs and ?? noisy wavs\n",
      "About to create spectrograms from 41463 waves\n",
      " 41250 wavs processedProcessing 1404 files\n",
      "Added 281 silent wavs and ?? noisy wavs\n",
      "About to create spectrograms from 1685 waves\n",
      " 1500 wavs processedProcessing 1405 files\n",
      "Added 282 silent wavs and ?? noisy wavs\n",
      "About to create spectrograms from 1687 waves\n",
      " 1500 wavs processed"
     ]
    }
   ],
   "source": [
    "# train_ds is already done\n",
    "# with tf.device('/CPU:0'):\n",
    "train_ds = preprocess_dataset(train_files, noisy_reps_of_known=[0.05,0.1,0.15,0.2,0.25])\n",
    "# train_ds = preprocess_dataset(train_files, noisy_reps_of_known=[0.05,0.1,0.15,0.2,0.25])\n",
    "val_ds = preprocess_dataset(val_files)\n",
    "test_ds = preprocess_dataset(test_files)"
   ]
  },
  {
   "cell_type": "code",
   "execution_count": 32,
   "id": "instant-sucking",
   "metadata": {},
   "outputs": [
    {
     "name": "stdout",
     "output_type": "stream",
     "text": [
      "training data set\n",
      "{2: 19422, 1: 5639, 3: 14154, 0: 2248}\n",
      "val_ds data set\n",
      "{2: 414, 1: 679, 3: 311, 0: 281}\n",
      "test_ds data set\n",
      "{2: 393, 1: 682, 3: 330, 0: 282}\n"
     ]
    }
   ],
   "source": [
    "print(\"training data set\")\n",
    "print(count_labels(train_ds))\n",
    "print(\"val_ds data set\")\n",
    "print(count_labels(val_ds))\n",
    "print(\"test_ds data set\")\n",
    "print(count_labels(test_ds))"
   ]
  },
  {
   "cell_type": "code",
   "execution_count": 33,
   "id": "controlling-arnold",
   "metadata": {},
   "outputs": [],
   "source": [
    "train_ds = train_ds.shuffle(int(len(train_files)*1.2))\n",
    "val_ds = val_ds.shuffle(int(len(val_files)*1.2))\n",
    "test_ds = test_ds.shuffle(int(len(test_files)*1.2))"
   ]
  },
  {
   "cell_type": "code",
   "execution_count": 34,
   "id": "scheduled-emergency",
   "metadata": {},
   "outputs": [],
   "source": [
    "batch_size = 64\n",
    "train_ds = train_ds.batch(batch_size)\n",
    "val_ds = val_ds.batch(batch_size)"
   ]
  },
  {
   "cell_type": "code",
   "execution_count": 35,
   "id": "positive-publication",
   "metadata": {},
   "outputs": [],
   "source": [
    "train_ds = train_ds.cache().prefetch(AUTOTUNE)\n",
    "val_ds = val_ds.cache().prefetch(AUTOTUNE)"
   ]
  },
  {
   "cell_type": "code",
   "execution_count": 36,
   "id": "exposed-appearance",
   "metadata": {},
   "outputs": [
    {
     "name": "stdout",
     "output_type": "stream",
     "text": [
      "Spectrogram shape (24, 32, 1)\n",
      "ranges from 0.0 to 712.0\n"
     ]
    },
    {
     "name": "stderr",
     "output_type": "stream",
     "text": [
      "2022-04-23 20:21:10.574335: W tensorflow/core/kernels/data/cache_dataset_ops.cc:768] The calling iterator did not fully read the dataset being cached. In order to avoid unexpected truncation of the dataset, the partially cached contents of the dataset  will be discarded. This can happen if you have an input pipeline similar to `dataset.cache().take(k).repeat()`. You should use `dataset.take(k).cache().repeat()` instead.\n"
     ]
    }
   ],
   "source": [
    "for spectrogram, _ in train_ds.take(1):\n",
    "  spec1 = spectrogram\n",
    "# take(1) takes 1 *batch*, so we have to select the first \n",
    "# spectrogram from it, hence the [0]\n",
    "print(f\"Spectrogram shape {spec1[0].shape}\")\n",
    "print(f\"ranges from {np.min(spec1)} to {np.max(spec1)}\")   # min/max across the whole batch"
   ]
  },
  {
   "cell_type": "code",
   "execution_count": 37,
   "id": "artistic-christian",
   "metadata": {},
   "outputs": [
    {
     "name": "stdout",
     "output_type": "stream",
     "text": [
      "Input shape: (24, 32, 1)\n"
     ]
    },
    {
     "name": "stderr",
     "output_type": "stream",
     "text": [
      "2022-04-23 20:21:10.820758: W tensorflow/core/kernels/data/cache_dataset_ops.cc:768] The calling iterator did not fully read the dataset being cached. In order to avoid unexpected truncation of the dataset, the partially cached contents of the dataset  will be discarded. This can happen if you have an input pipeline similar to `dataset.cache().take(k).repeat()`. You should use `dataset.take(k).cache().repeat()` instead.\n"
     ]
    }
   ],
   "source": [
    "for spectrogram, _ in train_ds.take(1):\n",
    "  # take(1) takes 1 *batch*, so we have to select the first \n",
    "  # spectrogram from it, hence the [0]\n",
    "  input_shape = spectrogram[0].shape  \n",
    "print('Input shape:', input_shape)\n",
    "num_labels = len(label_list)\n"
   ]
  },
  {
   "cell_type": "code",
   "execution_count": 38,
   "id": "stuck-david",
   "metadata": {},
   "outputs": [
    {
     "name": "stdout",
     "output_type": "stream",
     "text": [
      "Input shape: (24, 32, 1)\n",
      "Model: \"simple_cnn\"\n",
      "_________________________________________________________________\n",
      " Layer (type)                Output Shape              Param #   \n",
      "=================================================================\n",
      " conv2d (Conv2D)             (None, 22, 30, 20)        200       \n",
      "                                                                 \n",
      " pool2 (MaxPooling2D)        (None, 11, 15, 20)        0         \n",
      "                                                                 \n",
      " depthwise_conv2d (Depthwise  (None, 11, 15, 20)       200       \n",
      " Conv2D)                                                         \n",
      "                                                                 \n",
      " conv2d_1 (Conv2D)           (None, 11, 15, 32)        672       \n",
      "                                                                 \n",
      " max_pooling2d (MaxPooling2D  (None, 2, 3, 32)         0         \n",
      " )                                                               \n",
      "                                                                 \n",
      " dropout (Dropout)           (None, 2, 3, 32)          0         \n",
      "                                                                 \n",
      " flatten (Flatten)           (None, 192)               0         \n",
      "                                                                 \n",
      " dense (Dense)               (None, 128)               24704     \n",
      "                                                                 \n",
      " dropout_1 (Dropout)         (None, 128)               0         \n",
      "                                                                 \n",
      " dense_1 (Dense)             (None, 128)               16512     \n",
      "                                                                 \n",
      " dropout_2 (Dropout)         (None, 128)               0         \n",
      "                                                                 \n",
      " dense_2 (Dense)             (None, 4)                 516       \n",
      "                                                                 \n",
      "=================================================================\n",
      "Total params: 42,804\n",
      "Trainable params: 42,804\n",
      "Non-trainable params: 0\n",
      "_________________________________________________________________\n"
     ]
    }
   ],
   "source": [
    "print('Input shape:', input_shape)\n",
    "model = models.Sequential([\n",
    "    layers.Input(shape=input_shape),\n",
    "    layers.Conv2D(20, 3, activation='relu'),\n",
    "    layers.MaxPooling2D(name='pool2'),\n",
    "    layers.DepthwiseConv2D(kernel_size=(3,3), padding='same'),\n",
    "    layers.Conv2D(32, 1, activation='relu'),\n",
    "    layers.MaxPooling2D(pool_size=(4,4)),\n",
    "    layers.Dropout(0.2),\n",
    "    layers.Flatten(),\n",
    "    layers.Dense(128, activation='relu'),\n",
    "    layers.Dropout(0.2),\n",
    "    layers.Dense(128, activation='relu'),\n",
    "    layers.Dropout(0.2),\n",
    "    layers.Dense(num_labels),\n",
    "], name=\"simple_cnn\")\n",
    "\n",
    "model.summary()"
   ]
  },
  {
   "cell_type": "code",
   "execution_count": 39,
   "id": "rough-train",
   "metadata": {},
   "outputs": [
    {
     "name": "stdout",
     "output_type": "stream",
     "text": [
      "[95760 23940 85120 16384 16384   512]\n",
      "238100\n"
     ]
    }
   ],
   "source": [
    "# number of MACs in each layer is (# outputs in layer) * (number of inputs that contribute to one output)\n",
    "macs = np.array([(14*38*20)*(3*3), (7*19*20)*(3*3), (7*19*32)*20, 128*128, 128*128, 4*128])\n",
    "print(macs)\n",
    "print(np.sum(macs))"
   ]
  },
  {
   "cell_type": "code",
   "execution_count": 40,
   "id": "emerging-holocaust",
   "metadata": {},
   "outputs": [],
   "source": [
    "model.compile(\n",
    "    optimizer=tf.keras.optimizers.Adam(),\n",
    "    loss=tf.keras.losses.SparseCategoricalCrossentropy(from_logits=True),\n",
    "    metrics=['accuracy'],\n",
    ")"
   ]
  },
  {
   "cell_type": "code",
   "execution_count": 41,
   "id": "alternative-arrest",
   "metadata": {},
   "outputs": [],
   "source": [
    "#  Google: feature extraction with Keras\n",
    "# feature_model = tf.keras.model(input=model.input, output= model.layers[4].output)"
   ]
  },
  {
   "cell_type": "code",
   "execution_count": 42,
   "id": "recreational-publication",
   "metadata": {},
   "outputs": [
    {
     "name": "stdout",
     "output_type": "stream",
     "text": [
      "Epoch 1/32\n",
      "648/648 [==============================] - 14s 21ms/step - loss: 1.1758 - accuracy: 0.5655 - val_loss: 0.7811 - val_accuracy: 0.6641\n",
      "Epoch 2/32\n",
      "648/648 [==============================] - 15s 23ms/step - loss: 0.6609 - accuracy: 0.6960 - val_loss: 0.6497 - val_accuracy: 0.7056\n",
      "Epoch 3/32\n",
      "648/648 [==============================] - 16s 25ms/step - loss: 0.5499 - accuracy: 0.7527 - val_loss: 0.5177 - val_accuracy: 0.8107\n",
      "Epoch 4/32\n",
      "648/648 [==============================] - 19s 29ms/step - loss: 0.4849 - accuracy: 0.7896 - val_loss: 0.4754 - val_accuracy: 0.8006\n",
      "Epoch 5/32\n",
      "648/648 [==============================] - 18s 28ms/step - loss: 0.4330 - accuracy: 0.8146 - val_loss: 0.4442 - val_accuracy: 0.8404\n",
      "Epoch 6/32\n",
      "648/648 [==============================] - 20s 30ms/step - loss: 0.3951 - accuracy: 0.8314 - val_loss: 0.3881 - val_accuracy: 0.8688\n",
      "Epoch 7/32\n",
      "648/648 [==============================] - 18s 28ms/step - loss: 0.3720 - accuracy: 0.8407 - val_loss: 0.3604 - val_accuracy: 0.8748\n",
      "Epoch 8/32\n",
      "648/648 [==============================] - 18s 28ms/step - loss: 0.3561 - accuracy: 0.8485 - val_loss: 0.3634 - val_accuracy: 0.8487\n",
      "Epoch 9/32\n",
      "648/648 [==============================] - 17s 26ms/step - loss: 0.3385 - accuracy: 0.8556 - val_loss: 0.3494 - val_accuracy: 0.8694\n",
      "Epoch 10/32\n",
      "648/648 [==============================] - 18s 28ms/step - loss: 0.3287 - accuracy: 0.8606 - val_loss: 0.3244 - val_accuracy: 0.8908\n",
      "Epoch 11/32\n",
      "648/648 [==============================] - 16s 25ms/step - loss: 0.3238 - accuracy: 0.8637 - val_loss: 0.2812 - val_accuracy: 0.9193\n",
      "Epoch 12/32\n",
      "648/648 [==============================] - 18s 28ms/step - loss: 0.3103 - accuracy: 0.8677 - val_loss: 0.3502 - val_accuracy: 0.8647\n",
      "Epoch 13/32\n",
      "648/648 [==============================] - 18s 28ms/step - loss: 0.3075 - accuracy: 0.8696 - val_loss: 0.2929 - val_accuracy: 0.9128\n",
      "Epoch 14/32\n",
      "648/648 [==============================] - 20s 30ms/step - loss: 0.2991 - accuracy: 0.8723 - val_loss: 0.2656 - val_accuracy: 0.9181\n",
      "Epoch 15/32\n",
      "648/648 [==============================] - 19s 29ms/step - loss: 0.3006 - accuracy: 0.8721 - val_loss: 0.2804 - val_accuracy: 0.9086\n",
      "Epoch 16/32\n",
      "648/648 [==============================] - 22s 34ms/step - loss: 0.2917 - accuracy: 0.8769 - val_loss: 0.2604 - val_accuracy: 0.9205\n",
      "Epoch 17/32\n",
      "648/648 [==============================] - 19s 29ms/step - loss: 0.2913 - accuracy: 0.8764 - val_loss: 0.2781 - val_accuracy: 0.9187\n",
      "Epoch 18/32\n",
      "648/648 [==============================] - 20s 31ms/step - loss: 0.2831 - accuracy: 0.8810 - val_loss: 0.2665 - val_accuracy: 0.9258\n",
      "Epoch 19/32\n",
      "648/648 [==============================] - 17s 26ms/step - loss: 0.2842 - accuracy: 0.8806 - val_loss: 0.2985 - val_accuracy: 0.9104\n",
      "Epoch 20/32\n",
      "648/648 [==============================] - 17s 27ms/step - loss: 0.2758 - accuracy: 0.8818 - val_loss: 0.3093 - val_accuracy: 0.8789\n",
      "Epoch 21/32\n",
      "648/648 [==============================] - 16s 25ms/step - loss: 0.2692 - accuracy: 0.8868 - val_loss: 0.2815 - val_accuracy: 0.9074\n",
      "Epoch 22/32\n",
      "648/648 [==============================] - 17s 26ms/step - loss: 0.2794 - accuracy: 0.8834 - val_loss: 0.2815 - val_accuracy: 0.9039\n",
      "Epoch 23/32\n",
      "648/648 [==============================] - 16s 25ms/step - loss: 0.2746 - accuracy: 0.8830 - val_loss: 0.2733 - val_accuracy: 0.9027\n",
      "Epoch 24/32\n",
      "648/648 [==============================] - 18s 27ms/step - loss: 0.2688 - accuracy: 0.8873 - val_loss: 0.2509 - val_accuracy: 0.9282\n",
      "Epoch 25/32\n",
      "648/648 [==============================] - 19s 29ms/step - loss: 0.2719 - accuracy: 0.8860 - val_loss: 0.2636 - val_accuracy: 0.9240\n",
      "Epoch 26/32\n",
      "648/648 [==============================] - 19s 29ms/step - loss: 0.2686 - accuracy: 0.8855 - val_loss: 0.2581 - val_accuracy: 0.9240\n",
      "Epoch 27/32\n",
      "648/648 [==============================] - 16s 24ms/step - loss: 0.2618 - accuracy: 0.8876 - val_loss: 0.2604 - val_accuracy: 0.9193\n",
      "Epoch 28/32\n",
      "648/648 [==============================] - 13s 20ms/step - loss: 0.2588 - accuracy: 0.8898 - val_loss: 0.3029 - val_accuracy: 0.8973\n",
      "Epoch 29/32\n",
      "648/648 [==============================] - 13s 21ms/step - loss: 0.2564 - accuracy: 0.8915 - val_loss: 0.2571 - val_accuracy: 0.9228\n",
      "Epoch 30/32\n",
      "648/648 [==============================] - 16s 24ms/step - loss: 0.2560 - accuracy: 0.8922 - val_loss: 0.2600 - val_accuracy: 0.9234\n",
      "Epoch 31/32\n",
      "648/648 [==============================] - 21s 32ms/step - loss: 0.2570 - accuracy: 0.8929 - val_loss: 0.2909 - val_accuracy: 0.8944\n",
      "Epoch 32/32\n",
      "648/648 [==============================] - 21s 33ms/step - loss: 0.2532 - accuracy: 0.8949 - val_loss: 0.2429 - val_accuracy: 0.9258\n"
     ]
    }
   ],
   "source": [
    "# with tf.device('/GPU:0'):\n",
    "history = model.fit(\n",
    "    train_ds, \n",
    "    validation_data=val_ds,  \n",
    "    epochs=EPOCHS) \n",
    "    # callbacks=tf.keras.callbacks.EarlyStopping(verbose=1, patience=2))"
   ]
  },
  {
   "cell_type": "code",
   "execution_count": 43,
   "id": "equipped-characteristic",
   "metadata": {},
   "outputs": [
    {
     "name": "stdout",
     "output_type": "stream",
     "text": [
      "Saving model to kws_ufe_23apr2022_2030.h5\n"
     ]
    }
   ],
   "source": [
    "date_str = dt.now().strftime(\"%d%b%Y_%H%M\").lower()\n",
    "model_file_name = f\"kws_ufe_{date_str}.h5\" \n",
    "print(f\"Saving model to {model_file_name}\")\n",
    "model.save(model_file_name, overwrite=False)"
   ]
  },
  {
   "cell_type": "code",
   "execution_count": 44,
   "id": "157289b7-b7c9-469a-909a-4d346e583a1a",
   "metadata": {},
   "outputs": [],
   "source": [
    "with open(model_file_name.split('.')[0] + '.txt', 'w') as fpo:\n",
    "    fpo.write(f\"i16min            = {i16min           }\\n\")\n",
    "    fpo.write(f\"i16max            = {i16max           }\\n\")\n",
    "    fpo.write(f\"fsamp             = {fsamp            }\\n\")\n",
    "    fpo.write(f\"wave_length_ms    = {wave_length_ms   }\\n\")\n",
    "    fpo.write(f\"wave_length_samps = {wave_length_samps}\\n\")\n",
    "    fpo.write(f\"window_size_ms    = {window_size_ms   }\\n\")\n",
    "    fpo.write(f\"window_step_ms    = {window_step_ms   }\\n\")\n",
    "    fpo.write(f\"num_filters       = {num_filters      }\\n\")\n",
    "    fpo.write(f\"use_microfrontend = {use_microfrontend}\\n\")\n",
    "    fpo.write(f\"label_list        = {label_list}\\n\")\n",
    "    fpo.write(f\"spectrogram_shape = {spectrogram.numpy().shape}\\n\")\n"
   ]
  },
  {
   "cell_type": "code",
   "execution_count": 45,
   "id": "amateur-slovenia",
   "metadata": {},
   "outputs": [
    {
     "data": {
      "image/png": "[encoded data removed]",
      "text/plain": [
       "<Figure size 432x288 with 2 Axes>"
      ]
     },
     "metadata": {
      "needs_background": "light"
     },
     "output_type": "display_data"
    }
   ],
   "source": [
    "metrics = history.history\n",
    "plt.subplot(2,1,1)\n",
    "plt.semilogy(history.epoch, metrics['loss'], metrics['val_loss'])\n",
    "plt.legend(['training', 'validation'])\n",
    "plt.ylabel('Loss')\n",
    "plt.xlabel('Epoch')\n",
    "plt.subplot(2,1,2)\n",
    "plt.plot(history.epoch, metrics['accuracy'], metrics['val_accuracy'])\n",
    "plt.legend(['training', 'validation'])\n",
    "plt.ylabel('Accuracy')\n",
    "plt.xlabel('Epoch')\n",
    "plt.show()"
   ]
  },
  {
   "cell_type": "code",
   "execution_count": 46,
   "id": "hungarian-arabic",
   "metadata": {},
   "outputs": [],
   "source": [
    "test_audio = []\n",
    "test_labels = []\n",
    "\n",
    "for audio, label in test_ds:\n",
    "  test_audio.append(audio.numpy())\n",
    "  test_labels.append(label.numpy())\n",
    "\n",
    "test_audio = np.array(test_audio)\n",
    "test_labels = np.array(test_labels)"
   ]
  },
  {
   "cell_type": "code",
   "execution_count": 47,
   "id": "dangerous-coverage",
   "metadata": {
    "scrolled": true
   },
   "outputs": [
    {
     "name": "stdout",
     "output_type": "stream",
     "text": [
      "Test set accuracy: 94%\n"
     ]
    }
   ],
   "source": [
    "y_pred = np.argmax(model.predict(test_audio), axis=1)\n",
    "y_true = test_labels\n",
    "\n",
    "test_acc = sum(y_pred == y_true) / len(y_true)\n",
    "print(f'Test set accuracy: {test_acc:.0%}')"
   ]
  },
  {
   "cell_type": "code",
   "execution_count": 48,
   "id": "governmental-cathedral",
   "metadata": {},
   "outputs": [
    {
     "data": {
      "image/png": "[encoded data removed]",
      "text/plain": [
       "<Figure size 432x432 with 2 Axes>"
      ]
     },
     "metadata": {
      "needs_background": "light"
     },
     "output_type": "display_data"
    }
   ],
   "source": [
    "confusion_mtx = tf.math.confusion_matrix(y_true, y_pred) \n",
    "plt.figure(figsize=(6, 6))\n",
    "sns.heatmap(confusion_mtx, xticklabels=label_list, yticklabels=label_list, \n",
    "            annot=True, fmt='g')\n",
    "plt.gca().invert_yaxis() # flip so origin is at bottom left\n",
    "plt.xlabel('Prediction')\n",
    "plt.ylabel('Label')\n",
    "plt.show()"
   ]
  },
  {
   "cell_type": "code",
   "execution_count": 49,
   "id": "serious-victory",
   "metadata": {
    "scrolled": true
   },
   "outputs": [
    {
     "name": "stdout",
     "output_type": "stream",
     "text": [
      "On training set:\n",
      "Data set accuracy: 90%\n"
     ]
    },
    {
     "data": {
      "image/png": "[encoded data removed]",
      "text/plain": [
       "<Figure size 360x288 with 2 Axes>"
      ]
     },
     "metadata": {
      "needs_background": "light"
     },
     "output_type": "display_data"
    }
   ],
   "source": [
    "dset = train_ds.unbatch()\n",
    "print(\"On training set:\")\n",
    "\n",
    "ds_audio = []\n",
    "ds_labels = []\n",
    "\n",
    "for audio, label in dset:\n",
    "  ds_audio.append(audio.numpy())\n",
    "  ds_labels.append(label.numpy())\n",
    "\n",
    "ds_labels = np.array(ds_labels)\n",
    "ds_audio = np.array(ds_audio)\n",
    "\n",
    "model_out = model.predict(ds_audio)\n",
    "y_pred = np.argmax(model_out, axis=1)\n",
    "y_true = ds_labels\n",
    "\n",
    "ds_acc = sum(y_pred == y_true) / len(y_true)\n",
    "print(f'Data set accuracy: {ds_acc:.0%}')\n",
    "\n",
    "confusion_mtx = tf.math.confusion_matrix(y_true, y_pred) \n",
    "plt.figure(figsize=(5,4))\n",
    "sns.heatmap(confusion_mtx, xticklabels=label_list, yticklabels=label_list, \n",
    "            annot=True, fmt='g')\n",
    "plt.xlabel('Prediction')\n",
    "plt.ylabel('Label')\n",
    "plt.show()"
   ]
  },
  {
   "cell_type": "code",
   "execution_count": 50,
   "id": "unusual-stopping",
   "metadata": {
    "scrolled": true
   },
   "outputs": [
    {
     "name": "stdout",
     "output_type": "stream",
     "text": [
      "Processing 4 files\n",
      "Added 1 silent wavs and ?? noisy wavs\n",
      "About to create spectrograms from 5 waves\n",
      " 0 wavs processed"
     ]
    },
    {
     "data": {
      "image/png": "[encoded data removed]",
      "text/plain": [
       "<Figure size 432x288 with 1 Axes>"
      ]
     },
     "metadata": {
      "needs_background": "light"
     },
     "output_type": "display_data"
    },
    {
     "data": {
      "image/png": "[encoded data removed]",
      "text/plain": [
       "<Figure size 432x288 with 1 Axes>"
      ]
     },
     "metadata": {
      "needs_background": "light"
     },
     "output_type": "display_data"
    },
    {
     "data": {
      "image/png": "[encoded data removed]",
      "text/plain": [
       "<Figure size 432x288 with 1 Axes>"
      ]
     },
     "metadata": {
      "needs_background": "light"
     },
     "output_type": "display_data"
    },
    {
     "data": {
      "image/png": "[encoded data removed]",
      "text/plain": [
       "<Figure size 432x288 with 1 Axes>"
      ]
     },
     "metadata": {
      "needs_background": "light"
     },
     "output_type": "display_data"
    },
    {
     "data": {
      "image/png": "[encoded data removed]",
      "text/plain": [
       "<Figure size 432x288 with 1 Axes>"
      ]
     },
     "metadata": {
      "needs_background": "light"
     },
     "output_type": "display_data"
    }
   ],
   "source": [
    "sample_files = [data_dir/'left/07ad9b59_nohash_0.wav', \n",
    "                data_dir/'no/01bb6a2a_nohash_0.wav',  \n",
    "                data_dir/'right/0362539c_nohash_1.wav',\n",
    "                data_dir/'right/b5d1e505_nohash_0.wav']\n",
    "fstr_list = [str(f) for f in sample_files]\n",
    "sample_ds = preprocess_dataset(fstr_list, num_silent=1)\n",
    "count = 1\n",
    "for spectrogram, label in sample_ds.batch(1):\n",
    "  prediction = model(spectrogram)\n",
    "  plt.subplot(len(sample_files)+1, 1, count)\n",
    "  plt.bar(label_list, tf.nn.softmax(prediction[0]))\n",
    "  plt.title(f'Predictions for \"{label_list[label[0]]}\"')\n",
    "  plt.show()\n",
    "  count += 1"
   ]
  },
  {
   "cell_type": "markdown",
   "id": "current-preserve",
   "metadata": {},
   "source": [
    "## Quantize and Convert to TFLite"
   ]
  },
  {
   "cell_type": "code",
   "execution_count": 51,
   "id": "enclosed-government",
   "metadata": {},
   "outputs": [],
   "source": [
    "converter = tf.lite.TFLiteConverter.from_keras_model(model)\n",
    "converter.optimizations = [tf.lite.Optimize.DEFAULT]"
   ]
  },
  {
   "cell_type": "code",
   "execution_count": 52,
   "id": "loved-synthetic",
   "metadata": {},
   "outputs": [],
   "source": [
    "num_calibration_steps = 10\n",
    "ds_iter = val_ds.unbatch().batch(1).as_numpy_iterator()\n",
    "def representative_dataset_gen():\n",
    "  for _ in range(num_calibration_steps):\n",
    "    next_input = next(ds_iter)[0]\n",
    "    next_input = next_input.astype(np.float32)  # (DIFF_FROM_LECTURE)\n",
    "    yield [next_input]"
   ]
  },
  {
   "cell_type": "code",
   "execution_count": 53,
   "id": "supported-poison",
   "metadata": {},
   "outputs": [],
   "source": [
    "converter.optimizations = [tf.lite.Optimize.DEFAULT]\n",
    "converter.representative_dataset = representative_dataset_gen\n",
    "converter.target_spec.supported_ops = [tf.lite.OpsSet.TFLITE_BUILTINS_INT8]\n",
    "converter.inference_input_type = tf.int8  # or tf.uint8; should match dat_q in eval_quantized_model.py\n",
    "converter.inference_output_type = tf.int8  # or tf.uint8"
   ]
  },
  {
   "cell_type": "code",
   "execution_count": 54,
   "id": "least-marketplace",
   "metadata": {},
   "outputs": [
    {
     "name": "stderr",
     "output_type": "stream",
     "text": [
      "2022-04-23 20:31:01.150262: W tensorflow/python/util/util.cc:368] Sets are not currently considered sequences, but this may change in the future, so consider avoiding using them.\n"
     ]
    },
    {
     "name": "stdout",
     "output_type": "stream",
     "text": [
      "INFO:tensorflow:Assets written to: /var/folders/q8/4y2rn7y16gq2rxlt56c5m4s80000gn/T/tmp2xqwie48/assets\n"
     ]
    },
    {
     "name": "stderr",
     "output_type": "stream",
     "text": [
      "/Users/graysonbass/opt/anaconda3/envs/mliot/lib/python3.8/site-packages/tensorflow/lite/python/convert.py:746: UserWarning: Statistics for quantized inputs were expected, but not specified; continuing anyway.\n",
      "  warnings.warn(\"Statistics for quantized inputs were expected, but not \"\n",
      "2022-04-23 20:31:06.128615: W tensorflow/compiler/mlir/lite/python/tf_tfl_flatbuffer_helpers.cc:357] Ignored output_format.\n",
      "2022-04-23 20:31:06.128635: W tensorflow/compiler/mlir/lite/python/tf_tfl_flatbuffer_helpers.cc:360] Ignored drop_control_dependency.\n",
      "2022-04-23 20:31:06.129489: I tensorflow/cc/saved_model/reader.cc:43] Reading SavedModel from: /var/folders/q8/4y2rn7y16gq2rxlt56c5m4s80000gn/T/tmp2xqwie48\n",
      "2022-04-23 20:31:06.133308: I tensorflow/cc/saved_model/reader.cc:78] Reading meta graph with tags { serve }\n",
      "2022-04-23 20:31:06.133334: I tensorflow/cc/saved_model/reader.cc:119] Reading SavedModel debug info (if present) from: /var/folders/q8/4y2rn7y16gq2rxlt56c5m4s80000gn/T/tmp2xqwie48\n",
      "2022-04-23 20:31:06.146936: I tensorflow/cc/saved_model/loader.cc:228] Restoring SavedModel bundle.\n",
      "2022-04-23 20:31:06.237660: I tensorflow/cc/saved_model/loader.cc:212] Running initialization op on SavedModel bundle at path: /var/folders/q8/4y2rn7y16gq2rxlt56c5m4s80000gn/T/tmp2xqwie48\n",
      "2022-04-23 20:31:06.267432: I tensorflow/cc/saved_model/loader.cc:301] SavedModel load for tags { serve }; Status: success: OK. Took 137946 microseconds.\n",
      "2022-04-23 20:31:06.313400: I tensorflow/compiler/mlir/tensorflow/utils/dump_mlir_util.cc:237] disabling MLIR crash reproducer, set env var `MLIR_CRASH_REPRODUCER_DIRECTORY` to enable.\n",
      "fully_quantize: 0, inference_type: 6, input_inference_type: 9, output_inference_type: 9\n",
      "WARNING:absl:Buffer deduplication procedure will be skipped when flatbuffer library is not properly loaded\n"
     ]
    }
   ],
   "source": [
    "tflite_quant_model = converter.convert()"
   ]
  },
  {
   "cell_type": "code",
   "execution_count": 55,
   "id": "simplified-faculty",
   "metadata": {},
   "outputs": [
    {
     "name": "stdout",
     "output_type": "stream",
     "text": [
      "Wrote 49952 / 49952 bytes to tflite file\n"
     ]
    }
   ],
   "source": [
    "fname = 'kws_model.tflite'\n",
    "with open(fname, \"wb\") as fpo:\n",
    "  num_bytes_written = fpo.write(tflite_quant_model)\n",
    "print(f\"Wrote {num_bytes_written} / {len(tflite_quant_model)} bytes to tflite file\")"
   ]
  },
  {
   "cell_type": "code",
   "execution_count": 56,
   "id": "thorough-senegal",
   "metadata": {},
   "outputs": [],
   "source": [
    "!xxd -i kws_model.tflite >! kws_model.cc"
   ]
  },
  {
   "cell_type": "code",
   "execution_count": null,
   "id": "4f7a331e-b930-4914-8906-8e9b384b17c4",
   "metadata": {},
   "outputs": [],
   "source": []
  }
 ],
 "metadata": {
  "kernelspec": {
   "display_name": "Python [conda env:mliot]",
   "language": "python",
   "name": "conda-env-mliot-py"
  },
  "language_info": {
   "codemirror_mode": {
    "name": "ipython",
    "version": 3
   },
   "file_extension": ".py",
   "mimetype": "text/x-python",
   "name": "python",
   "nbconvert_exporter": "python",
   "pygments_lexer": "ipython3",
   "version": "3.8.12"
  }
 },
 "nbformat": 4,
 "nbformat_minor": 5
}

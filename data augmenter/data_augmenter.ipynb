{
 "cells": [
  {
   "cell_type": "code",
   "execution_count": 1,
   "id": "637ff6bb-e06e-4dec-92a5-39f2d905dbc4",
   "metadata": {},
   "outputs": [],
   "source": [
    "import nlpaug\n",
    "nlpaug.__version__\n",
    "\n",
    "import nlpaug.augmenter.audio as naa\n",
    "\n",
    "from nlpaug.util.audio.visualizer import AudioVisualizer\n",
    "\n",
    "import soundfile as sf\n",
    "from pydub import AudioSegment \n",
    "from pydub.utils import make_chunks \n",
    "\n",
    "import librosa\n",
    "import librosa.display as librosa_display\n",
    "import matplotlib.pyplot as plt\n",
    "\n",
    "import numpy as np\n",
    "import os\n",
    "import random\n",
    "\n",
    "import warnings\n",
    "warnings.filterwarnings(\"ignore\")\n",
    "\n",
    "path = os.getcwd()"
   ]
  },
  {
   "cell_type": "code",
   "execution_count": 2,
   "id": "b4857d2a-ff45-4c55-a8d0-ae2a8d83cc0a",
   "metadata": {},
   "outputs": [],
   "source": [
    "# Use this to split a wav file into 1 second chunks\n",
    "# def spit_file(filename):\n",
    "#     myaudio = AudioSegment.from_file(filename, \"wav\") \n",
    "#     chunk_length_ms = 1000 # pydub calculates in millisec \n",
    "#     chunks = make_chunks(myaudio,chunk_length_ms) #Make chunks of one sec \n",
    "#     for i, chunk in enumerate(chunks): \n",
    "#         chunk_name = \"{0}.wav\".format(i+1) \n",
    "#         print (\"exporting\", chunk_name) \n",
    "#         chunk.export(chunk_name, format=\"wav\") \n",
    "        "
   ]
  },
  {
   "cell_type": "code",
   "execution_count": 3,
   "id": "1c2164bd-c06b-4c2e-9311-d45e7ff4a23d",
   "metadata": {},
   "outputs": [],
   "source": [
    "# spit_file('babble.wav')"
   ]
  },
  {
   "cell_type": "code",
   "execution_count": 25,
   "id": "27d905fe-7942-4bd0-9561-b75dd9029bca",
   "metadata": {},
   "outputs": [],
   "source": [
    "# Use this to change the pitch of a wav file\n",
    "def pitch_shift(data, sr):\n",
    "    aug = naa.PitchAug(sampling_rate=sr, zone=(0,1),factor=(1.1,1),duration=1)\n",
    "    augmented_data = aug.augment(data)\n",
    "    \n",
    "    return augmented_data\n",
    "\n",
    "# Use this to add noise to a wav file\n",
    "def add_noise(data):\n",
    "    noises = [0.05,0.1,0.15,0.2,0.25]\n",
    "    for i, noise in enumerate(noises):\n",
    "        noises[i] = np.random.normal(0,data.std(),data.size) * noise\n",
    "        \n",
    "    aug = naa.NoiseAug(zone=(0,1),noises=noises)\n",
    "    augmented_data = aug.augment(data)\n",
    "    \n",
    "    return augmented_data\n",
    "\n",
    "# Use this to shift the speed of the wav file\n",
    "def speed_shift(data):\n",
    "    aug = naa.SpeedAug(zone=(0,1), factor = (.80,1.2))\n",
    "    augmented_data = aug.augment(data)\n",
    "    \n",
    "    return augmented_data\n",
    "\n",
    "# Use this to time shift the wav file\n",
    "def time_shift(data, sr):\n",
    "    aug = naa.ShiftAug(sampling_rate=sr, duration=0.15, direction='random', )\n",
    "    \n",
    "    augmented_data = aug.augment(data)\n",
    "    \n",
    "    return augmented_data\n",
    "\n",
    "def mask_data(affirmatives):\n",
    "    for i,file in enumerate(affirmatives):\n",
    "        affirmative,sr = librosa.load(affirmatives[i], sr=None)\n",
    "\n",
    "        aug = naa.MaskAug(sampling_rate=sr, zone=(0,1),duration=1)\n",
    "        augmented_data = aug.augment(affirmative)\n",
    "        sf.write(f'results/{(i+1)+1503}.wav', augmented_data, sr, 'PCM_16') # create a wav file\n",
    "\n",
    "\n",
    "def add_babble(affirmatives):\n",
    "    babble_path = os.path.join(os.getcwd(),'babble')\n",
    "    babbles = []\n",
    "\n",
    "    for i, filename in enumerate(os.listdir(babble_path)):\n",
    "        f = os.path.join(babble_path, filename)\n",
    "        # checking if it is a file\n",
    "        if os.path.isfile(f):\n",
    "            babbles.append(f)\n",
    "\n",
    "    # Shuffle the list\n",
    "    random.shuffle(babbles)\n",
    "\n",
    "    for i,file in enumerate(babbles):\n",
    "        try:\n",
    "            babble, _ = librosa.load(babbles[i], sr=None)\n",
    "            affirmative,sr = librosa.load(affirmatives[i], sr=None)\n",
    "            babble *=.70\n",
    "            augmented_data = affirmative+babble\n",
    "        except:\n",
    "            continue\n",
    "\n",
    "        sf.write(f'results/{(i+1)+1503}.wav', augmented_data, sr, 'PCM_16') # create a wav file\n"
   ]
  },
  {
   "cell_type": "code",
   "execution_count": 26,
   "id": "c4e9e13c-3334-4ed1-a4cd-7970b0117c84",
   "metadata": {},
   "outputs": [],
   "source": [
    "# Loads files in current directory into a list and shuffles it\n",
    "\n",
    "affirmatives = []\n",
    "affirmative_path = os.path.join(path,'affirmative')\n",
    "# Load the keyword\n",
    "# iterate over files in\n",
    "# that directory and add to a list\n",
    "for filename in os.listdir(affirmative_path):\n",
    "    f = os.path.join(affirmative_path, filename)\n",
    "    # checking if it is a file\n",
    "    if os.path.isfile(f):\n",
    "       affirmatives.append(f)\n",
    "\n",
    "# Shuffle the list\n",
    "# random.shuffle(affirmatives)"
   ]
  },
  {
   "cell_type": "code",
   "execution_count": 27,
   "id": "c0cc343c-c003-4b9b-9645-8e991c79f49a",
   "metadata": {},
   "outputs": [],
   "source": [
    "# Add babble to samples\n",
    "# add_babble(affirmatives)"
   ]
  },
  {
   "cell_type": "code",
   "execution_count": 28,
   "id": "aaa19b85-7aa1-4d91-b881-1da84be9ac83",
   "metadata": {},
   "outputs": [],
   "source": [
    "# Mask the audio samples\n",
    "# mask_data(affirmatives)"
   ]
  },
  {
   "cell_type": "code",
   "execution_count": 31,
   "id": "9cc6a86a-3998-4249-a126-0f0fe54e4330",
   "metadata": {},
   "outputs": [],
   "source": [
    "# Speed Shift\n",
    "for i, filename in enumerate(affirmatives):\n",
    "#     try:\n",
    "    affirmative, sr = librosa.load(filename, sr=None)\n",
    "    augmented_data = speed_shift(affirmative)\n",
    "#     except:\n",
    "#         continue\n",
    "\n",
    "    sf.write(f'results/{(i+1)+2007}.wav', augmented_data, sr, 'PCM_16') # create a wav file"
   ]
  },
  {
   "cell_type": "code",
   "execution_count": 9,
   "id": "916f66ba-4bad-4554-b03a-1d4796a7e010",
   "metadata": {},
   "outputs": [],
   "source": [
    "# # Pitch shift\n",
    "# for i, filename in enumerate(affirmatives):\n",
    "#     try:\n",
    "#         affirmative, sr = librosa.load(filename, sr=None)\n",
    "#         augmented_data = pitch_shift(affirmative, sr)\n",
    "#     except:\n",
    "#         continue\n",
    "\n",
    "#     sf.write(f'results/{(i+1)+1000}.wav', augmented_data, sr, 'PCM_16') # create a wav file\n",
    "    "
   ]
  },
  {
   "cell_type": "code",
   "execution_count": 10,
   "id": "817d8110-ed16-45cc-8233-a8be573e60bf",
   "metadata": {},
   "outputs": [],
   "source": [
    "#Add Noise\n",
    "# for i, filename in enumerate(affirmatives):\n",
    "#     try:\n",
    "#         affirmative, sr = librosa.load(filename, sr=None)\n",
    "#         augmented_data = add_noise(affirmative)\n",
    "#     except:\n",
    "#         continue\n",
    "\n",
    "#     sf.write(f'results/{(i+1)+1503}.wav', augmented_data, sr, 'PCM_16') # create a wav file"
   ]
  },
  {
   "cell_type": "code",
   "execution_count": 11,
   "id": "473535af-4ebb-4a70-8a8e-461d75eff945",
   "metadata": {},
   "outputs": [],
   "source": [
    "# Time Shift\n",
    "# for i, filename in enumerate(affirmatives):\n",
    "#     try:\n",
    "#         data, sr = librosa.load(filename, sr=None)\n",
    "#         augmented_data = time_shift(data, sr)\n",
    "#     except:\n",
    "#         continue\n",
    "\n",
    "#     sf.write(f'results/{(i+1)+1503}.wav', augmented_data, sr, 'PCM_16') # create a wav file"
   ]
  },
  {
   "cell_type": "code",
   "execution_count": null,
   "id": "fb8d113e-f47f-49c4-8889-61a41f89edf9",
   "metadata": {},
   "outputs": [],
   "source": []
  },
  {
   "cell_type": "code",
   "execution_count": null,
   "id": "1edf4cfa-9e1c-42f3-9928-21190214ef46",
   "metadata": {},
   "outputs": [],
   "source": []
  },
  {
   "cell_type": "code",
   "execution_count": null,
   "id": "a9287728-2a3a-4f20-baf3-972dca66ce17",
   "metadata": {},
   "outputs": [],
   "source": []
  }
 ],
 "metadata": {
  "kernelspec": {
   "display_name": "Python [conda env:mliot]",
   "language": "python",
   "name": "conda-env-mliot-py"
  },
  "language_info": {
   "codemirror_mode": {
    "name": "ipython",
    "version": 3
   },
   "file_extension": ".py",
   "mimetype": "text/x-python",
   "name": "python",
   "nbconvert_exporter": "python",
   "pygments_lexer": "ipython3",
   "version": "3.8.12"
  }
 },
 "nbformat": 4,
 "nbformat_minor": 5
}
